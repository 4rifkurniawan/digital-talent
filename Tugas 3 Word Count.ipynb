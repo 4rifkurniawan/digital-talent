{
 "cells": [
  {
   "cell_type": "markdown",
   "metadata": {},
   "source": [
    "# Tugas 3 Word Cound\n",
    "Arif kurniawan"
   ]
  },
  {
   "cell_type": "code",
   "execution_count": 17,
   "metadata": {},
   "outputs": [
    {
     "name": "stdout",
     "output_type": "stream",
     "text": [
      "barcelona berhasil merebut posisi puncak klasemen la liga spanyol seusai menang 4 2 atas sevilla pada pertandingan pekan kesembilan di stadion camp nou  sabtu  20 10 2018  atau minggu dini hari wib. barcelona membuka keunggulan pada menit ke 2 melalui gol yang dicetak oleh philippe coutinho. lionel messi menggandakan keunggulan barcelona  10 menit berselang.  namun  nahas bagi barcelona  karena messi harus ditarik keluar pada menit ke 26 setelah mengalami cedera. tanpa messi  skor 2 0 bertahan hingga babak pertama berakhir\n"
     ]
    }
   ],
   "source": [
    "paragraf = \"Barcelona berhasil merebut posisi puncak klasemen La Liga Spanyol seusai menang 4-2 atas Sevilla pada pertandingan pekan kesembilan di Stadion Camp Nou, Sabtu (20/10/2018) atau Minggu dini hari WIB. Barcelona membuka keunggulan pada menit ke-2 melalui gol yang dicetak oleh Philippe Coutinho. Lionel Messi menggandakan keunggulan Barcelona, 10 menit berselang.  Namun, nahas bagi Barcelona, karena Messi harus ditarik keluar pada menit ke-26 setelah mengalami cedera. Tanpa Messi, skor 2-0 bertahan hingga babak pertama berakhir\"\n",
    "paragraf = paragraf.lower()\n",
    "paragraf = paragraf.replace('-',' ')\n",
    "paragraf = paragraf.replace('(',' ')\n",
    "paragraf = paragraf.replace(')',' ')\n",
    "paragraf = paragraf.replace('/',' ')\n",
    "paragraf = paragraf.replace(',',' ')\n",
    "print(paragraf)"
   ]
  },
  {
   "cell_type": "code",
   "execution_count": 18,
   "metadata": {},
   "outputs": [
    {
     "name": "stdout",
     "output_type": "stream",
     "text": [
      "['barcelona berhasil merebut posisi puncak klasemen la liga spanyol seusai menang 4 2 atas sevilla pada pertandingan pekan kesembilan di stadion camp nou  sabtu  20 10 2018  atau minggu dini hari wib', ' barcelona membuka keunggulan pada menit ke 2 melalui gol yang dicetak oleh philippe coutinho', ' lionel messi menggandakan keunggulan barcelona  10 menit berselang', '  namun  nahas bagi barcelona  karena messi harus ditarik keluar pada menit ke 26 setelah mengalami cedera', ' tanpa messi  skor 2 0 bertahan hingga babak pertama berakhir']\n"
     ]
    }
   ],
   "source": [
    "kalimat = paragraf.split(\".\") #memecahkan berdasarkan . (titik)\n",
    "print(kalimat)"
   ]
  },
  {
   "cell_type": "code",
   "execution_count": 26,
   "metadata": {},
   "outputs": [
    {
     "name": "stdout",
     "output_type": "stream",
     "text": [
      "\n",
      "\n",
      "Word Count dari paragraf di atas adalah sebagai berikut\n",
      "• membuka : 1\n",
      "• 2018 : 1\n",
      "• yang : 1\n",
      "• melalui : 1\n",
      "• mengalami : 1\n",
      "• 10 : 2\n",
      "• karena : 1\n",
      "• dicetak : 1\n",
      "• 4 : 1\n",
      "• barcelona : 4\n",
      "• stadion : 1\n",
      "• berhasil : 1\n",
      "• liga : 1\n",
      "• merebut : 1\n",
      "• posisi : 1\n",
      "• atas : 1\n",
      "• namun : 1\n",
      "• berselang : 1\n",
      "• la : 1\n",
      "• klasemen : 1\n",
      "• keunggulan : 2\n",
      "• minggu : 1\n",
      "• bertahan : 1\n",
      "• pada : 3\n",
      "• hingga : 1\n",
      "• puncak : 1\n",
      "• 20 : 1\n",
      "• keluar : 1\n",
      "• spanyol : 1\n",
      "• coutinho : 1\n",
      "• seusai : 1\n",
      "• messi : 3\n",
      "• kesembilan : 1\n",
      "• ditarik : 1\n",
      "• setelah : 1\n",
      "• atau : 1\n",
      "• nou : 1\n",
      "• gol : 1\n",
      "• menggandakan : 1\n",
      "• nahas : 1\n",
      "• bagi : 1\n",
      "• sabtu : 1\n",
      "• camp : 1\n",
      "• pertandingan : 1\n",
      "• skor : 1\n",
      "• 0 : 1\n",
      "• menit : 3\n",
      "• berakhir : 1\n",
      "• sevilla : 1\n",
      "• menang : 1\n",
      "• pekan : 1\n",
      "• ke : 2\n",
      "• wib : 1\n",
      "• oleh : 1\n",
      "• cedera : 1\n",
      "• tanpa : 1\n",
      "• pertama : 1\n",
      "• di : 1\n",
      "• philippe : 1\n",
      "• lionel : 1\n",
      "• dini : 1\n",
      "• 26 : 1\n",
      "• babak : 1\n",
      "• harus : 1\n",
      "• hari : 1\n",
      "• 2 : 3\n"
     ]
    }
   ],
   "source": [
    "kata = []\n",
    "# masing-masing kalimat dipecah menjadi kata\n",
    "for k in kalimat:\n",
    "    kata.append(k.strip().split())\n",
    "\n",
    "# gabungin jadi 1 list\n",
    "listKata = []\n",
    "for k in kata:\n",
    "    listKata = listKata + k\n",
    "\n",
    "# print(listKata)\n",
    "# get unique word\n",
    "mySet = set(listKata)\n",
    "myDictionary = {}\n",
    "for i in mySet:\n",
    "    myDictionary[i] = listKata.count(i)\n",
    "\n",
    "# print(myDictionary)\n",
    "print('\\n\\nWord Count dari paragraf di atas adalah sebagai berikut')\n",
    "for k,v in myDictionary.items():\n",
    "        print('\\u2022',k,':',v)"
   ]
  }
 ],
 "metadata": {
  "kernelspec": {
   "display_name": "Python 3",
   "language": "python",
   "name": "python3"
  },
  "language_info": {
   "codemirror_mode": {
    "name": "ipython",
    "version": 3
   },
   "file_extension": ".py",
   "mimetype": "text/x-python",
   "name": "python",
   "nbconvert_exporter": "python",
   "pygments_lexer": "ipython3",
   "version": "3.7.0"
  }
 },
 "nbformat": 4,
 "nbformat_minor": 2
}
