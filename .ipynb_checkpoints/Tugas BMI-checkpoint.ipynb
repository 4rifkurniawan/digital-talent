{
 "cells": [
  {
   "cell_type": "markdown",
   "metadata": {},
   "source": [
    "# TUGAS BMI\n",
    "Body Mass Index"
   ]
  },
  {
   "cell_type": "code",
   "execution_count": 1,
   "metadata": {},
   "outputs": [
    {
     "name": "stdout",
     "output_type": "stream",
     "text": [
      "nama =Arif kurniawan\n",
      "berat badan = 76\n",
      "(kg)\n",
      "tinggi badan = 171\n",
      "(cm)\n",
      "nilai BMI  Arif kurniawan adalah  25.990903183885642\n",
      "Kategori = Overweight\n",
      "----Program Selesai----\n"
     ]
    }
   ],
   "source": [
    "p = input('nama =')\n",
    "s = int(input('berat badan = ')) # berat badan (kg)\n",
    "print('(kg)')\n",
    "r = float(input('tinggi badan = ')) # tinggi badan (cm)\n",
    "print('(cm)')\n",
    "\n",
    "t = r/100 #konversi tinggi badan dari cm ke m\n",
    "\n",
    "#--------------------------------\n",
    "BMI = s / (t**2)  #rumus BMI\n",
    "print ('nilai BMI ',p,'adalah ',BMI)\n",
    "\n",
    "#--------------------------------\n",
    "#Statement Kondisi\n",
    "if BMI <= 15:\n",
    "    print ('Kategori = Very severely underweight')\n",
    "elif 15 < BMI <= 16 :\n",
    "    print ('Kategori = Severely underweight')\n",
    "elif 16 < BMI <= 18.5 :\n",
    "    print ('Kategori = underweight')\n",
    "elif 18.5 < BMI <= 25 :\n",
    "    print ('Kategori = Normal (healthy weight)')\n",
    "elif 25 < BMI <= 30 :\n",
    "    print ('Kategori = Overweight')\n",
    "elif 30 < BMI <= 35 :\n",
    "    print ('Kategori = Moderately obese')\n",
    "elif 35 < BMI <= 40 :\n",
    "    print ('Kategori = Severely obese')\n",
    "elif BMI > 40 :\n",
    "    print ('Kategori = Very severely obese')    \n",
    "\n",
    "\n",
    "print ('----Program Selesai----')"
   ]
  },
  {
   "cell_type": "code",
   "execution_count": null,
   "metadata": {},
   "outputs": [],
   "source": []
  }
 ],
 "metadata": {
  "kernelspec": {
   "display_name": "Python 3",
   "language": "python",
   "name": "python3"
  },
  "language_info": {
   "codemirror_mode": {
    "name": "ipython",
    "version": 3
   },
   "file_extension": ".py",
   "mimetype": "text/x-python",
   "name": "python",
   "nbconvert_exporter": "python",
   "pygments_lexer": "ipython3",
   "version": "3.7.0"
  }
 },
 "nbformat": 4,
 "nbformat_minor": 2
}
